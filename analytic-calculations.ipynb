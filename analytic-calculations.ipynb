{
 "cells": [
  {
   "cell_type": "code",
   "execution_count": 1,
   "id": "270c6af8-a6ff-4847-8b15-13abd6751d63",
   "metadata": {},
   "outputs": [],
   "source": [
    "import sympy as sp\n",
    "from sympy.matrices import Matrix, zeros, ones, diag\n",
    "from sympy import LeviCivita, Function, summation,  Matrix, diff, Array\n",
    "from sympy.matrices.expressions.matexpr import MatrixElement\n",
    "import numpy as np\n",
    "from sympy import DiracDelta\n",
    "import matplotlib.pyplot as plt"
   ]
  },
  {
   "cell_type": "code",
   "execution_count": 2,
   "id": "2b7f4c62-d3d5-4ce1-be10-2177f8e14542",
   "metadata": {},
   "outputs": [],
   "source": [
    "#definition of coordinate system symbols\n",
    "\n",
    "t,r,th,ph = sp.symbols('t, r, theta , phi', real=True)\n",
    "x,y=sp.symbols('x,y,', real=True)\n",
    "rho,z=sp.symbols('rho, z', real=True)\n",
    "\n",
    "\n",
    "#some constants just in case\n",
    "\n",
    "c1, c2, c3,c4=sp.symbols('c_1, c_2, c_3, c_4', real=True)\n",
    "\n",
    "\n",
    "\n",
    "#definition of indices symbols\n",
    "\n",
    "i,j,n,m,s,a,b,c,d,w,q,h,k,l =sp.symbols('i, j,n,m,s,a,b,c,d,w,q,h, k,l', integer=True)\n"
   ]
  },
  {
   "cell_type": "code",
   "execution_count": 3,
   "id": "43d4cd4c-10cf-44aa-87fa-a45869013afb",
   "metadata": {
    "tags": []
   },
   "outputs": [
    {
     "data": {
      "text/latex": [
       "$\\displaystyle \\left[\\begin{matrix}t\\\\x\\\\y\\\\z\\end{matrix}\\right]$"
      ],
      "text/plain": [
       "[[t], [x], [y], [z]]"
      ]
     },
     "execution_count": 3,
     "metadata": {},
     "output_type": "execute_result"
    }
   ],
   "source": [
    "#definition of cylindrical coordinates\n",
    "varc=Array([[t], [rho], [ph], [z]])\n",
    "\n",
    "#defition of spherical coordinates\n",
    "varp=Array([[t], [r], [th], [ph]])\n",
    "\n",
    "#definition of cartesian coordinates\n",
    "varcar=Array([[t],[x],[y],[z]])\n",
    "\n",
    "#here you can write the name of the preferable coordinate system for  preview\n",
    "\n",
    "varcar"
   ]
  },
  {
   "cell_type": "code",
   "execution_count": 4,
   "id": "77470577-bc99-4752-9cf1-d67a308bbf2c",
   "metadata": {
    "tags": []
   },
   "outputs": [
    {
     "data": {
      "text/latex": [
       "$\\displaystyle \\left[\\begin{matrix}t\\\\x\\\\y\\\\z\\end{matrix}\\right]$"
      ],
      "text/plain": [
       "[[t], [x], [y], [z]]"
      ]
     },
     "execution_count": 4,
     "metadata": {},
     "output_type": "execute_result"
    }
   ],
   "source": [
    "#choose coordiate system varc for cylindrical| varp for spherical | varcar for cartesian\n",
    "var=varcar\n",
    "\n",
    "#preview\n",
    "var"
   ]
  },
  {
   "cell_type": "code",
   "execution_count": 5,
   "id": "550602c2-47f3-4f29-8a14-358d02f25550",
   "metadata": {
    "tags": []
   },
   "outputs": [],
   "source": [
    "#levi-civita tensor\n",
    "\n",
    "e=LeviCivita\n",
    "\n",
    "\n",
    "#definition the metric tensor in spherical coordinates\n",
    "\n",
    "metp=Array([[1,0,0,0],[0,-1,0,0],[0,0,-r**2,0],[0,0,0,-(r**2)*(sp.sin(th)**2)]])\n",
    "\n",
    "#definition of metric tensor in cylindrical coordinates\n",
    "\n",
    "metc=Array([[1,0,0,0],[0,-1,0,0],[0,0,-rho**2,0],[0,0,0,-1]])\n",
    "\n",
    "\n",
    "#definition of metric tensor in cartesian coordinates\n",
    "\n",
    "metcar=Array([[1,0,0,0],[0,-1,0,0],[0,0,-1,0],[0,0,0,-1]])\n"
   ]
  },
  {
   "cell_type": "code",
   "execution_count": 6,
   "id": "3156d090-b9cc-4981-88b0-3a52d11ee908",
   "metadata": {},
   "outputs": [
    {
     "data": {
      "text/latex": [
       "$\\displaystyle \\left[\\begin{matrix}1 & 0 & 0 & 0\\\\0 & -1 & 0 & 0\\\\0 & 0 & -1 & 0\\\\0 & 0 & 0 & -1\\end{matrix}\\right]$"
      ],
      "text/plain": [
       "[[1, 0, 0, 0], [0, -1, 0, 0], [0, 0, -1, 0], [0, 0, 0, -1]]"
      ]
     },
     "execution_count": 6,
     "metadata": {},
     "output_type": "execute_result"
    }
   ],
   "source": [
    "#choose metric, metc for cylinder, metp for polar, metcar for cartesian\n",
    "met=metcar\n",
    "\n",
    "#preview\n",
    "met"
   ]
  },
  {
   "cell_type": "code",
   "execution_count": 10,
   "id": "41860773-f944-4d20-8582-3e4a37bc1fb3",
   "metadata": {},
   "outputs": [],
   "source": [
    "#Spherical coordinate functions\n",
    "ar1=Function('A^r^1')(t,r,th,ph)\n",
    "ar2=Function('A^r^2')(t,th)\n",
    "ar3=Function('A^r^3')(t,th)\n",
    "ath1=Function('A^theta^1')(t)\n",
    "ath2=Function('A^theta^2')(t,r,th,ph)\n",
    "ath3=Function('A^theta^3')(t)\n",
    "aph1=Function('A^phi^1')(t)\n",
    "aph2=Function('A^phi^2')(t)\n",
    "aph3=Function('A^phi^3')(t,r,th,ph)\n",
    "ared=Function('A')(t)\n",
    "\n",
    "#Cylindrical coordinate functions\n",
    "arho1=Function('A^1^rho')(rho)\n",
    "az3=Function('A^3^z')(t,x,y,z)\n",
    "aphc2=Function('A^2^phi')(rho)\n",
    "arho2=Function('A^2^rho')(rho,ph)\n",
    "aph1=Function('A^1^phi')(rho,ph)\n",
    "#Cartesian functions\n",
    "at1=Function('A^1^t')(t,x,y,z)\n",
    "at2=Function('A^2^t')(t,x,y,z)\n",
    "at3=Function('A^3^t')(t,x,y,z)\n",
    "\n",
    "\n",
    "ax1=Function('A^1^x')(t,x,y,z)\n",
    "ax2=Function('A^2^x')(t,x,y,z)\n",
    "ax3=Function('A^3^x')(t,x,y,z)\n",
    "ay1=Function('A^1^y')(t,x,y,z)\n",
    "ay2=Function('A^2^y')(t,x,y,z)\n",
    "ay3=Function('A^3^y')(t,x,y,z)\n",
    "az1=Function('A^1^z')(t,x,y,z)\n",
    "az2=Function('A^2^z')(t,x,y,z)\n",
    "\n",
    "\n",
    "\n",
    "X=Function('X')(t)\n",
    "Y=Function('Y')(t)\n",
    "Z=Function('Z')(t)\n",
    "\n",
    "# -----\n",
    "f1=Function('f_1')(rho,ph)\n",
    "g1=Function('g_1')(rho,ph)\n",
    "f2=Function('f_2')(rho*ph)\n",
    "g2=Function('g_2')(ph)\n",
    "g=Function('g')(rho)\n",
    "h=Function('h')(rho)\n",
    "\n",
    "#chromoel/magn fields\n",
    "\n",
    "B11=Function('B^1^1')(rho)\n",
    "B23=Function('B^2^3')(rho)\n",
    "B32=Function('B^3^2')(rho)\n"
   ]
  },
  {
   "cell_type": "code",
   "execution_count": 11,
   "id": "cad53576-dca1-4d67-8d9f-206e8b5931d5",
   "metadata": {
    "tags": []
   },
   "outputs": [],
   "source": [
    "#numerical to analytical solutions (agnoise to afto einai kati dika mou)\n",
    "\n",
    "A2phinum=-3.45012*(rho**9)+10.63808*rho**8-16.47679*rho**7+16.73091*rho**6-19.21958*rho**5+23.10624*rho**4-18.12979*rho**3+7.99989*rho**2-10*rho+4\n",
    "\n",
    "\n",
    "\n",
    "\n",
    "A3znum=-4.2656*rho+1.99945"
   ]
  },
  {
   "cell_type": "code",
   "execution_count": 12,
   "id": "b612ab54-767b-4d3f-a8f0-7211061cbd19",
   "metadata": {
    "tags": []
   },
   "outputs": [
    {
     "data": {
      "text/latex": [
       "$\\displaystyle \\left[\\begin{matrix}0 & 0 & 0\\\\A^{1 x}{\\left(t,x,y,z \\right)} & 0 & 0\\\\0 & A^{2 y}{\\left(t,x,y,z \\right)} & 0\\\\0 & 0 & A^{3 z}{\\left(t,x,y,z \\right)}\\end{matrix}\\right]$"
      ],
      "text/plain": [
       "[[0, 0, 0], [A^1^x(t, x, y, z), 0, 0], [0, A^2^y(t, x, y, z), 0], [0, 0, A^3^z(t, x, y, z)]]"
      ]
     },
     "execution_count": 12,
     "metadata": {},
     "output_type": "execute_result"
    }
   ],
   "source": [
    "#Definition of A matrix structure, lines->spacetime, rows->color\n",
    "\n",
    "A=Array([[0,0,0],[ax1,0,0],[0,ay2,0],[0,0,az3]])\n",
    "\n",
    "#preview\n",
    "A"
   ]
  },
  {
   "cell_type": "code",
   "execution_count": 15,
   "id": "088eb9a7-9c9d-4662-bf12-4314f5d41306",
   "metadata": {},
   "outputs": [
    {
     "data": {
      "text/latex": [
       "$\\displaystyle \\left[\\begin{matrix}\\left[\\begin{matrix}0 & \\frac{\\partial}{\\partial t} A^{1 x}{\\left(t,x,y,z \\right)} & 0 & 0\\\\- \\frac{\\partial}{\\partial t} A^{1 x}{\\left(t,x,y,z \\right)} & 0 & - \\frac{\\partial}{\\partial y} A^{1 x}{\\left(t,x,y,z \\right)} & - \\frac{\\partial}{\\partial z} A^{1 x}{\\left(t,x,y,z \\right)}\\\\0 & \\frac{\\partial}{\\partial y} A^{1 x}{\\left(t,x,y,z \\right)} & 0 & A^{2 y}{\\left(t,x,y,z \\right)} A^{3 z}{\\left(t,x,y,z \\right)}\\\\0 & \\frac{\\partial}{\\partial z} A^{1 x}{\\left(t,x,y,z \\right)} & - A^{2 y}{\\left(t,x,y,z \\right)} A^{3 z}{\\left(t,x,y,z \\right)} & 0\\end{matrix}\\right] & \\left[\\begin{matrix}0 & 0 & \\frac{\\partial}{\\partial t} A^{2 y}{\\left(t,x,y,z \\right)} & 0\\\\0 & 0 & \\frac{\\partial}{\\partial x} A^{2 y}{\\left(t,x,y,z \\right)} & - A^{1 x}{\\left(t,x,y,z \\right)} A^{3 z}{\\left(t,x,y,z \\right)}\\\\- \\frac{\\partial}{\\partial t} A^{2 y}{\\left(t,x,y,z \\right)} & - \\frac{\\partial}{\\partial x} A^{2 y}{\\left(t,x,y,z \\right)} & 0 & - \\frac{\\partial}{\\partial z} A^{2 y}{\\left(t,x,y,z \\right)}\\\\0 & A^{1 x}{\\left(t,x,y,z \\right)} A^{3 z}{\\left(t,x,y,z \\right)} & \\frac{\\partial}{\\partial z} A^{2 y}{\\left(t,x,y,z \\right)} & 0\\end{matrix}\\right] & \\left[\\begin{matrix}0 & 0 & 0 & \\frac{\\partial}{\\partial t} A^{3 z}{\\left(t,x,y,z \\right)}\\\\0 & 0 & A^{1 x}{\\left(t,x,y,z \\right)} A^{2 y}{\\left(t,x,y,z \\right)} & \\frac{\\partial}{\\partial x} A^{3 z}{\\left(t,x,y,z \\right)}\\\\0 & - A^{1 x}{\\left(t,x,y,z \\right)} A^{2 y}{\\left(t,x,y,z \\right)} & 0 & \\frac{\\partial}{\\partial y} A^{3 z}{\\left(t,x,y,z \\right)}\\\\- \\frac{\\partial}{\\partial t} A^{3 z}{\\left(t,x,y,z \\right)} & - \\frac{\\partial}{\\partial x} A^{3 z}{\\left(t,x,y,z \\right)} & - \\frac{\\partial}{\\partial y} A^{3 z}{\\left(t,x,y,z \\right)} & 0\\end{matrix}\\right]\\end{matrix}\\right]$"
      ],
      "text/plain": [
       "[[[0, Derivative(A^1^x(t, x, y, z), t), 0, 0], [-Derivative(A^1^x(t, x, y, z), t), 0, -Derivative(A^1^x(t, x, y, z), y), -Derivative(A^1^x(t, x, y, z), z)], [0, Derivative(A^1^x(t, x, y, z), y), 0, A^2^y(t, x, y, z)*A^3^z(t, x, y, z)], [0, Derivative(A^1^x(t, x, y, z), z), -A^2^y(t, x, y, z)*A^3^z(t, x, y, z), 0]], [[0, 0, Derivative(A^2^y(t, x, y, z), t), 0], [0, 0, Derivative(A^2^y(t, x, y, z), x), -A^1^x(t, x, y, z)*A^3^z(t, x, y, z)], [-Derivative(A^2^y(t, x, y, z), t), -Derivative(A^2^y(t, x, y, z), x), 0, -Derivative(A^2^y(t, x, y, z), z)], [0, A^1^x(t, x, y, z)*A^3^z(t, x, y, z), Derivative(A^2^y(t, x, y, z), z), 0]], [[0, 0, 0, Derivative(A^3^z(t, x, y, z), t)], [0, 0, A^1^x(t, x, y, z)*A^2^y(t, x, y, z), Derivative(A^3^z(t, x, y, z), x)], [0, -A^1^x(t, x, y, z)*A^2^y(t, x, y, z), 0, Derivative(A^3^z(t, x, y, z), y)], [-Derivative(A^3^z(t, x, y, z), t), -Derivative(A^3^z(t, x, y, z), x), -Derivative(A^3^z(t, x, y, z), y), 0]]]"
      ]
     },
     "execution_count": 15,
     "metadata": {},
     "output_type": "execute_result"
    }
   ],
   "source": [
    "# We define the F to be of type \"MutableDenseNDimArray\" because we got an error message that told us about \"Immutable etc\"\n",
    "d = 4\n",
    "F = sp.MutableDenseNDimArray(np.zeros((3, 4, 4), dtype=int))\n",
    "\n",
    "\n",
    "#computation of field strength tensor\n",
    "\n",
    "for h in range(0,4):\n",
    "    for q in range(0,4):\n",
    "        for w in range(0,3):\n",
    "            F[w,h,q] = diff(A[q,w],var[h,0])-diff(A[h,w],var[q,0])+summation(summation(e(w+1,b+1,c+1)*A[h,b]*A[q,c], (b,0,2)), (c,0,2))\n",
    "\n",
    "#Field strength tensor preview\n",
    "F"
   ]
  },
  {
   "cell_type": "code",
   "execution_count": 16,
   "id": "c33afbbf-f018-45dd-ae00-6d82688af60d",
   "metadata": {},
   "outputs": [
    {
     "data": {
      "text/latex": [
       "$\\displaystyle - 0.5 \\left(A^{1 x}\\right)^{2}{\\left(t,x,y,z \\right)} \\left(A^{2 y}\\right)^{2}{\\left(t,x,y,z \\right)} - 0.5 \\left(A^{1 x}\\right)^{2}{\\left(t,x,y,z \\right)} \\left(A^{3 z}\\right)^{2}{\\left(t,x,y,z \\right)} - 0.5 \\left(A^{2 y}\\right)^{2}{\\left(t,x,y,z \\right)} \\left(A^{3 z}\\right)^{2}{\\left(t,x,y,z \\right)} + 0.5 \\left(\\frac{\\partial}{\\partial t} A^{1 x}{\\left(t,x,y,z \\right)}\\right)^{2} - 0.5 \\left(\\frac{\\partial}{\\partial y} A^{1 x}{\\left(t,x,y,z \\right)}\\right)^{2} - 0.5 \\left(\\frac{\\partial}{\\partial z} A^{1 x}{\\left(t,x,y,z \\right)}\\right)^{2} + 0.5 \\left(\\frac{\\partial}{\\partial t} A^{2 y}{\\left(t,x,y,z \\right)}\\right)^{2} - 0.5 \\left(\\frac{\\partial}{\\partial x} A^{2 y}{\\left(t,x,y,z \\right)}\\right)^{2} - 0.5 \\left(\\frac{\\partial}{\\partial z} A^{2 y}{\\left(t,x,y,z \\right)}\\right)^{2} + 0.5 \\left(\\frac{\\partial}{\\partial t} A^{3 z}{\\left(t,x,y,z \\right)}\\right)^{2} - 0.5 \\left(\\frac{\\partial}{\\partial x} A^{3 z}{\\left(t,x,y,z \\right)}\\right)^{2} - 0.5 \\left(\\frac{\\partial}{\\partial y} A^{3 z}{\\left(t,x,y,z \\right)}\\right)^{2}$"
      ],
      "text/plain": [
       "-0.5*A^1^x(t, x, y, z)**2*A^2^y(t, x, y, z)**2 - 0.5*A^1^x(t, x, y, z)**2*A^3^z(t, x, y, z)**2 - 0.5*A^2^y(t, x, y, z)**2*A^3^z(t, x, y, z)**2 + 0.5*Derivative(A^1^x(t, x, y, z), t)**2 - 0.5*Derivative(A^1^x(t, x, y, z), y)**2 - 0.5*Derivative(A^1^x(t, x, y, z), z)**2 + 0.5*Derivative(A^2^y(t, x, y, z), t)**2 - 0.5*Derivative(A^2^y(t, x, y, z), x)**2 - 0.5*Derivative(A^2^y(t, x, y, z), z)**2 + 0.5*Derivative(A^3^z(t, x, y, z), t)**2 - 0.5*Derivative(A^3^z(t, x, y, z), x)**2 - 0.5*Derivative(A^3^z(t, x, y, z), y)**2"
      ]
     },
     "execution_count": 16,
     "metadata": {},
     "output_type": "execute_result"
    }
   ],
   "source": [
    "#computation of thet Lagrangian ?\n",
    "\n",
    "L=-1/4*summation(summation(summation(summation(summation(met[k,m]*met[s,n]*F[a,k,s]*F[a,m,n], (a,0,2)), (s,0,3)), (k,0,3)), (m,0,3)), (n,0,3))\n",
    "\n",
    "#Lagrangian preview\n",
    "sp.expand(L)"
   ]
  },
  {
   "cell_type": "code",
   "execution_count": 18,
   "id": "a4c39489-d85d-4bf0-b08c-7e54961bb0a0",
   "metadata": {
    "tags": []
   },
   "outputs": [
    {
     "data": {
      "text/latex": [
       "$\\displaystyle 0.5 \\left(A^{1 x}\\right)^{2}{\\left(t,x,y,z \\right)} \\left(A^{2 y}\\right)^{2}{\\left(t,x,y,z \\right)} + 0.5 \\left(A^{1 x}\\right)^{2}{\\left(t,x,y,z \\right)} \\left(A^{3 z}\\right)^{2}{\\left(t,x,y,z \\right)} + 0.5 \\left(A^{2 y}\\right)^{2}{\\left(t,x,y,z \\right)} \\left(A^{3 z}\\right)^{2}{\\left(t,x,y,z \\right)} + 0.5 \\left(\\frac{\\partial}{\\partial t} A^{1 x}{\\left(t,x,y,z \\right)}\\right)^{2} + 0.5 \\left(\\frac{\\partial}{\\partial y} A^{1 x}{\\left(t,x,y,z \\right)}\\right)^{2} + 0.5 \\left(\\frac{\\partial}{\\partial z} A^{1 x}{\\left(t,x,y,z \\right)}\\right)^{2} + 0.5 \\left(\\frac{\\partial}{\\partial t} A^{2 y}{\\left(t,x,y,z \\right)}\\right)^{2} + 0.5 \\left(\\frac{\\partial}{\\partial x} A^{2 y}{\\left(t,x,y,z \\right)}\\right)^{2} + 0.5 \\left(\\frac{\\partial}{\\partial z} A^{2 y}{\\left(t,x,y,z \\right)}\\right)^{2} + 0.5 \\left(\\frac{\\partial}{\\partial t} A^{3 z}{\\left(t,x,y,z \\right)}\\right)^{2} + 0.5 \\left(\\frac{\\partial}{\\partial x} A^{3 z}{\\left(t,x,y,z \\right)}\\right)^{2} + 0.5 \\left(\\frac{\\partial}{\\partial y} A^{3 z}{\\left(t,x,y,z \\right)}\\right)^{2}$"
      ],
      "text/plain": [
       "0.5*A^1^x(t, x, y, z)**2*A^2^y(t, x, y, z)**2 + 0.5*A^1^x(t, x, y, z)**2*A^3^z(t, x, y, z)**2 + 0.5*A^2^y(t, x, y, z)**2*A^3^z(t, x, y, z)**2 + 0.5*Derivative(A^1^x(t, x, y, z), t)**2 + 0.5*Derivative(A^1^x(t, x, y, z), y)**2 + 0.5*Derivative(A^1^x(t, x, y, z), z)**2 + 0.5*Derivative(A^2^y(t, x, y, z), t)**2 + 0.5*Derivative(A^2^y(t, x, y, z), x)**2 + 0.5*Derivative(A^2^y(t, x, y, z), z)**2 + 0.5*Derivative(A^3^z(t, x, y, z), t)**2 + 0.5*Derivative(A^3^z(t, x, y, z), x)**2 + 0.5*Derivative(A^3^z(t, x, y, z), y)**2"
      ]
     },
     "execution_count": 18,
     "metadata": {},
     "output_type": "execute_result"
    }
   ],
   "source": [
    "#computation of the hamiltonian ? \n",
    "\n",
    "H=summation(summation(F[a,0,k]*(A[k,a].diff(t)), (a,0,2)),(k,0,3))-L\n",
    "\n",
    "#hamiltonian preview\n",
    "sp.expand(H)"
   ]
  },
  {
   "cell_type": "code",
   "execution_count": 19,
   "id": "91e990e3-4833-4664-a49d-fc1c4e17f4cc",
   "metadata": {
    "tags": []
   },
   "outputs": [
    {
     "data": {
      "text/latex": [
       "$\\displaystyle \\left[\\begin{matrix}\\frac{\\partial^{2}}{\\partial x\\partial t} A^{1 x}{\\left(t,x,y,z \\right)} & \\frac{\\partial^{2}}{\\partial y\\partial t} A^{2 y}{\\left(t,x,y,z \\right)} & \\frac{\\partial^{2}}{\\partial z\\partial t} A^{3 z}{\\left(t,x,y,z \\right)}\\\\A^{1 x}{\\left(t,x,y,z \\right)} \\left(A^{2 y}\\right)^{2}{\\left(t,x,y,z \\right)} + A^{1 x}{\\left(t,x,y,z \\right)} \\left(A^{3 z}\\right)^{2}{\\left(t,x,y,z \\right)} + \\frac{\\partial^{2}}{\\partial t^{2}} A^{1 x}{\\left(t,x,y,z \\right)} - \\frac{\\partial^{2}}{\\partial y^{2}} A^{1 x}{\\left(t,x,y,z \\right)} - \\frac{\\partial^{2}}{\\partial z^{2}} A^{1 x}{\\left(t,x,y,z \\right)} & - A^{1 x}{\\left(t,x,y,z \\right)} \\frac{\\partial}{\\partial z} A^{3 z}{\\left(t,x,y,z \\right)} - 2 A^{3 z}{\\left(t,x,y,z \\right)} \\frac{\\partial}{\\partial z} A^{1 x}{\\left(t,x,y,z \\right)} + \\frac{\\partial^{2}}{\\partial y\\partial x} A^{2 y}{\\left(t,x,y,z \\right)} & A^{1 x}{\\left(t,x,y,z \\right)} \\frac{\\partial}{\\partial y} A^{2 y}{\\left(t,x,y,z \\right)} + 2 A^{2 y}{\\left(t,x,y,z \\right)} \\frac{\\partial}{\\partial y} A^{1 x}{\\left(t,x,y,z \\right)} + \\frac{\\partial^{2}}{\\partial z\\partial x} A^{3 z}{\\left(t,x,y,z \\right)}\\\\A^{2 y}{\\left(t,x,y,z \\right)} \\frac{\\partial}{\\partial z} A^{3 z}{\\left(t,x,y,z \\right)} + 2 A^{3 z}{\\left(t,x,y,z \\right)} \\frac{\\partial}{\\partial z} A^{2 y}{\\left(t,x,y,z \\right)} + \\frac{\\partial^{2}}{\\partial y\\partial x} A^{1 x}{\\left(t,x,y,z \\right)} & \\left(A^{1 x}\\right)^{2}{\\left(t,x,y,z \\right)} A^{2 y}{\\left(t,x,y,z \\right)} + A^{2 y}{\\left(t,x,y,z \\right)} \\left(A^{3 z}\\right)^{2}{\\left(t,x,y,z \\right)} + \\frac{\\partial^{2}}{\\partial t^{2}} A^{2 y}{\\left(t,x,y,z \\right)} - \\frac{\\partial^{2}}{\\partial x^{2}} A^{2 y}{\\left(t,x,y,z \\right)} - \\frac{\\partial^{2}}{\\partial z^{2}} A^{2 y}{\\left(t,x,y,z \\right)} & - 2 A^{1 x}{\\left(t,x,y,z \\right)} \\frac{\\partial}{\\partial x} A^{2 y}{\\left(t,x,y,z \\right)} - A^{2 y}{\\left(t,x,y,z \\right)} \\frac{\\partial}{\\partial x} A^{1 x}{\\left(t,x,y,z \\right)} + \\frac{\\partial^{2}}{\\partial z\\partial y} A^{3 z}{\\left(t,x,y,z \\right)}\\\\- 2 A^{2 y}{\\left(t,x,y,z \\right)} \\frac{\\partial}{\\partial y} A^{3 z}{\\left(t,x,y,z \\right)} - A^{3 z}{\\left(t,x,y,z \\right)} \\frac{\\partial}{\\partial y} A^{2 y}{\\left(t,x,y,z \\right)} + \\frac{\\partial^{2}}{\\partial z\\partial x} A^{1 x}{\\left(t,x,y,z \\right)} & 2 A^{1 x}{\\left(t,x,y,z \\right)} \\frac{\\partial}{\\partial x} A^{3 z}{\\left(t,x,y,z \\right)} + A^{3 z}{\\left(t,x,y,z \\right)} \\frac{\\partial}{\\partial x} A^{1 x}{\\left(t,x,y,z \\right)} + \\frac{\\partial^{2}}{\\partial z\\partial y} A^{2 y}{\\left(t,x,y,z \\right)} & \\left(A^{1 x}\\right)^{2}{\\left(t,x,y,z \\right)} A^{3 z}{\\left(t,x,y,z \\right)} + \\left(A^{2 y}\\right)^{2}{\\left(t,x,y,z \\right)} A^{3 z}{\\left(t,x,y,z \\right)} + \\frac{\\partial^{2}}{\\partial t^{2}} A^{3 z}{\\left(t,x,y,z \\right)} - \\frac{\\partial^{2}}{\\partial x^{2}} A^{3 z}{\\left(t,x,y,z \\right)} - \\frac{\\partial^{2}}{\\partial y^{2}} A^{3 z}{\\left(t,x,y,z \\right)}\\end{matrix}\\right]$"
      ],
      "text/plain": [
       "[[Derivative(A^1^x(t, x, y, z), t, x), Derivative(A^2^y(t, x, y, z), t, y), Derivative(A^3^z(t, x, y, z), t, z)], [A^1^x(t, x, y, z)*A^2^y(t, x, y, z)**2 + A^1^x(t, x, y, z)*A^3^z(t, x, y, z)**2 + Derivative(A^1^x(t, x, y, z), (t, 2)) - Derivative(A^1^x(t, x, y, z), (y, 2)) - Derivative(A^1^x(t, x, y, z), (z, 2)), -A^1^x(t, x, y, z)*Derivative(A^3^z(t, x, y, z), z) - 2*A^3^z(t, x, y, z)*Derivative(A^1^x(t, x, y, z), z) + Derivative(A^2^y(t, x, y, z), x, y), A^1^x(t, x, y, z)*Derivative(A^2^y(t, x, y, z), y) + 2*A^2^y(t, x, y, z)*Derivative(A^1^x(t, x, y, z), y) + Derivative(A^3^z(t, x, y, z), x, z)], [A^2^y(t, x, y, z)*Derivative(A^3^z(t, x, y, z), z) + 2*A^3^z(t, x, y, z)*Derivative(A^2^y(t, x, y, z), z) + Derivative(A^1^x(t, x, y, z), x, y), A^1^x(t, x, y, z)**2*A^2^y(t, x, y, z) + A^2^y(t, x, y, z)*A^3^z(t, x, y, z)**2 + Derivative(A^2^y(t, x, y, z), (t, 2)) - Derivative(A^2^y(t, x, y, z), (x, 2)) - Derivative(A^2^y(t, x, y, z), (z, 2)), -2*A^1^x(t, x, y, z)*Derivative(A^2^y(t, x, y, z), x) - A^2^y(t, x, y, z)*Derivative(A^1^x(t, x, y, z), x) + Derivative(A^3^z(t, x, y, z), y, z)], [-2*A^2^y(t, x, y, z)*Derivative(A^3^z(t, x, y, z), y) - A^3^z(t, x, y, z)*Derivative(A^2^y(t, x, y, z), y) + Derivative(A^1^x(t, x, y, z), x, z), 2*A^1^x(t, x, y, z)*Derivative(A^3^z(t, x, y, z), x) + A^3^z(t, x, y, z)*Derivative(A^1^x(t, x, y, z), x) + Derivative(A^2^y(t, x, y, z), y, z), A^1^x(t, x, y, z)**2*A^3^z(t, x, y, z) + A^2^y(t, x, y, z)**2*A^3^z(t, x, y, z) + Derivative(A^3^z(t, x, y, z), (t, 2)) - Derivative(A^3^z(t, x, y, z), (x, 2)) - Derivative(A^3^z(t, x, y, z), (y, 2))]]"
      ]
     },
     "execution_count": 19,
     "metadata": {},
     "output_type": "execute_result"
    }
   ],
   "source": [
    "#computation of the eoms, here we assign a value for each matrix element where the lines refer to the free-to-select spacetime value and the rows refer to the colour value.\n",
    "\n",
    "eom= sp.MutableDenseNDimArray(np.zeros((4,3),  dtype=int))\n",
    "eom1= sp.MutableDenseNDimArray(np.zeros((4,3),  dtype=int))\n",
    "eom2= sp.MutableDenseNDimArray(np.zeros((4,3),  dtype=int))\n",
    "\n",
    "for a in range(0,3):\n",
    "    for n in range(0,4):\n",
    "        eom2[n,a]=summation(summation(summation(summation(e(a+1,b+1,c+1)*met[m,s]*A[s,b]*F[c,m,n],(m,0,3)),(s,0,3)),(b,0,2)),(c,0,2))\n",
    "\n",
    "for a in range(0,3):\n",
    "    for n in range(0,4):\n",
    "            eom1[n,a]=summation(met[m,0]*F[a,m,n].diff(var[0,0]), (m,0,3))+summation(met[m,1]*F[a,m,n].diff(var[1,0]), (m,0,3))+summation(met[m,2]*F[a,m,n].diff(var[2,0]), (m,0,3))+summation(met[m,3]*F[a,m,n].diff(var[3,0]), (m,0,3))\n",
    "\n",
    "eom=eom1+eom2\n",
    "\n",
    "#equations of motion preview line -> ν spacetime, row --> α color\n",
    "eom"
   ]
  },
  {
   "cell_type": "code",
   "execution_count": 20,
   "id": "754b3294-294a-4826-8eaf-031a42159f53",
   "metadata": {},
   "outputs": [
    {
     "data": {
      "text/latex": [
       "$\\displaystyle \\left[\\begin{matrix}\\frac{\\partial}{\\partial t} A^{1 x}{\\left(t,x,y,z \\right)} & 0 & 0\\\\0 & \\frac{\\partial}{\\partial t} A^{2 y}{\\left(t,x,y,z \\right)} & 0\\\\0 & 0 & \\frac{\\partial}{\\partial t} A^{3 z}{\\left(t,x,y,z \\right)}\\end{matrix}\\right]$"
      ],
      "text/plain": [
       "[[Derivative(A^1^x(t, x, y, z), t), 0, 0], [0, Derivative(A^2^y(t, x, y, z), t), 0], [0, 0, Derivative(A^3^z(t, x, y, z), t)]]"
      ]
     },
     "execution_count": 20,
     "metadata": {},
     "output_type": "execute_result"
    }
   ],
   "source": [
    "#computation of the chromoelectric field\n",
    "\n",
    "E= sp.MutableDenseNDimArray(np.zeros((3,3),dtype=int))\n",
    "\n",
    "for a in range(0,3):\n",
    "    for i in range(0,3):\n",
    "        E[i,a]=F[a,0,i+1]\n",
    "#preview        \n",
    "E"
   ]
  },
  {
   "cell_type": "code",
   "execution_count": 22,
   "id": "d6f04eb7-e355-4e23-b66c-289befa386f5",
   "metadata": {
    "tags": []
   },
   "outputs": [
    {
     "data": {
      "text/latex": [
       "$\\displaystyle \\left[\\begin{matrix}- 1.0 A^{2 y}{\\left(t,x,y,z \\right)} A^{3 z}{\\left(t,x,y,z \\right)} & 1.0 \\frac{\\partial}{\\partial z} A^{2 y}{\\left(t,x,y,z \\right)} & - 1.0 \\frac{\\partial}{\\partial y} A^{3 z}{\\left(t,x,y,z \\right)}\\\\- 1.0 \\frac{\\partial}{\\partial z} A^{1 x}{\\left(t,x,y,z \\right)} & - 1.0 A^{1 x}{\\left(t,x,y,z \\right)} A^{3 z}{\\left(t,x,y,z \\right)} & 1.0 \\frac{\\partial}{\\partial x} A^{3 z}{\\left(t,x,y,z \\right)}\\\\1.0 \\frac{\\partial}{\\partial y} A^{1 x}{\\left(t,x,y,z \\right)} & - 1.0 \\frac{\\partial}{\\partial x} A^{2 y}{\\left(t,x,y,z \\right)} & - 1.0 A^{1 x}{\\left(t,x,y,z \\right)} A^{2 y}{\\left(t,x,y,z \\right)}\\end{matrix}\\right]$"
      ],
      "text/plain": [
       "[[-1.0*A^2^y(t, x, y, z)*A^3^z(t, x, y, z), 1.0*Derivative(A^2^y(t, x, y, z), z), -1.0*Derivative(A^3^z(t, x, y, z), y)], [-1.0*Derivative(A^1^x(t, x, y, z), z), -1.0*A^1^x(t, x, y, z)*A^3^z(t, x, y, z), 1.0*Derivative(A^3^z(t, x, y, z), x)], [1.0*Derivative(A^1^x(t, x, y, z), y), -1.0*Derivative(A^2^y(t, x, y, z), x), -1.0*A^1^x(t, x, y, z)*A^2^y(t, x, y, z)]]"
      ]
     },
     "execution_count": 22,
     "metadata": {},
     "output_type": "execute_result"
    }
   ],
   "source": [
    "#computation of the chromomagnetic field\n",
    "\n",
    "B=sp.MutableDenseNDimArray(np.zeros((3,3),dtype=int))\n",
    "\n",
    "for a in range(0,3):\n",
    "    for i in range(0,3):\n",
    "        B[i,a]=-0.5*summation(summation(e(i+1,j,k)*F[a,j,k], (j,1,3)),(k,1,3))\n",
    "#preview\n",
    "B"
   ]
  },
  {
   "cell_type": "code",
   "execution_count": 23,
   "id": "95904377-72ee-4534-9a20-95a215583536",
   "metadata": {
    "tags": []
   },
   "outputs": [
    {
     "data": {
      "text/latex": [
       "$\\displaystyle \\left[\\begin{matrix}0.5 \\left(A^{1 x}\\right)^{2}{\\left(t,x,y,z \\right)} \\left(A^{2 y}\\right)^{2}{\\left(t,x,y,z \\right)} + 0.5 \\left(A^{1 x}\\right)^{2}{\\left(t,x,y,z \\right)} \\left(A^{3 z}\\right)^{2}{\\left(t,x,y,z \\right)} + 0.5 \\left(A^{2 y}\\right)^{2}{\\left(t,x,y,z \\right)} \\left(A^{3 z}\\right)^{2}{\\left(t,x,y,z \\right)} - 1.5 \\left(\\frac{\\partial}{\\partial t} A^{1 x}{\\left(t,x,y,z \\right)}\\right)^{2} + 0.5 \\left(\\frac{\\partial}{\\partial y} A^{1 x}{\\left(t,x,y,z \\right)}\\right)^{2} + 0.5 \\left(\\frac{\\partial}{\\partial z} A^{1 x}{\\left(t,x,y,z \\right)}\\right)^{2} - 1.5 \\left(\\frac{\\partial}{\\partial t} A^{2 y}{\\left(t,x,y,z \\right)}\\right)^{2} + 0.5 \\left(\\frac{\\partial}{\\partial x} A^{2 y}{\\left(t,x,y,z \\right)}\\right)^{2} + 0.5 \\left(\\frac{\\partial}{\\partial z} A^{2 y}{\\left(t,x,y,z \\right)}\\right)^{2} - 1.5 \\left(\\frac{\\partial}{\\partial t} A^{3 z}{\\left(t,x,y,z \\right)}\\right)^{2} + 0.5 \\left(\\frac{\\partial}{\\partial x} A^{3 z}{\\left(t,x,y,z \\right)}\\right)^{2} + 0.5 \\left(\\frac{\\partial}{\\partial y} A^{3 z}{\\left(t,x,y,z \\right)}\\right)^{2} & - \\frac{\\partial}{\\partial t} A^{2 y}{\\left(t,x,y,z \\right)} \\frac{\\partial}{\\partial x} A^{2 y}{\\left(t,x,y,z \\right)} - \\frac{\\partial}{\\partial t} A^{3 z}{\\left(t,x,y,z \\right)} \\frac{\\partial}{\\partial x} A^{3 z}{\\left(t,x,y,z \\right)} & - \\frac{\\partial}{\\partial t} A^{1 x}{\\left(t,x,y,z \\right)} \\frac{\\partial}{\\partial y} A^{1 x}{\\left(t,x,y,z \\right)} - \\frac{\\partial}{\\partial t} A^{3 z}{\\left(t,x,y,z \\right)} \\frac{\\partial}{\\partial y} A^{3 z}{\\left(t,x,y,z \\right)} & - \\frac{\\partial}{\\partial t} A^{1 x}{\\left(t,x,y,z \\right)} \\frac{\\partial}{\\partial z} A^{1 x}{\\left(t,x,y,z \\right)} - \\frac{\\partial}{\\partial t} A^{2 y}{\\left(t,x,y,z \\right)} \\frac{\\partial}{\\partial z} A^{2 y}{\\left(t,x,y,z \\right)}\\\\- \\frac{\\partial}{\\partial t} A^{2 y}{\\left(t,x,y,z \\right)} \\frac{\\partial}{\\partial x} A^{2 y}{\\left(t,x,y,z \\right)} - \\frac{\\partial}{\\partial t} A^{3 z}{\\left(t,x,y,z \\right)} \\frac{\\partial}{\\partial x} A^{3 z}{\\left(t,x,y,z \\right)} & - 1.5 \\left(A^{1 x}\\right)^{2}{\\left(t,x,y,z \\right)} \\left(A^{2 y}\\right)^{2}{\\left(t,x,y,z \\right)} - 1.5 \\left(A^{1 x}\\right)^{2}{\\left(t,x,y,z \\right)} \\left(A^{3 z}\\right)^{2}{\\left(t,x,y,z \\right)} - 0.5 \\left(A^{2 y}\\right)^{2}{\\left(t,x,y,z \\right)} \\left(A^{3 z}\\right)^{2}{\\left(t,x,y,z \\right)} + 1.5 \\left(\\frac{\\partial}{\\partial t} A^{1 x}{\\left(t,x,y,z \\right)}\\right)^{2} - 1.5 \\left(\\frac{\\partial}{\\partial y} A^{1 x}{\\left(t,x,y,z \\right)}\\right)^{2} - 1.5 \\left(\\frac{\\partial}{\\partial z} A^{1 x}{\\left(t,x,y,z \\right)}\\right)^{2} + 0.5 \\left(\\frac{\\partial}{\\partial t} A^{2 y}{\\left(t,x,y,z \\right)}\\right)^{2} - 1.5 \\left(\\frac{\\partial}{\\partial x} A^{2 y}{\\left(t,x,y,z \\right)}\\right)^{2} - 0.5 \\left(\\frac{\\partial}{\\partial z} A^{2 y}{\\left(t,x,y,z \\right)}\\right)^{2} + 0.5 \\left(\\frac{\\partial}{\\partial t} A^{3 z}{\\left(t,x,y,z \\right)}\\right)^{2} - 1.5 \\left(\\frac{\\partial}{\\partial x} A^{3 z}{\\left(t,x,y,z \\right)}\\right)^{2} - 0.5 \\left(\\frac{\\partial}{\\partial y} A^{3 z}{\\left(t,x,y,z \\right)}\\right)^{2} & - A^{1 x}{\\left(t,x,y,z \\right)} A^{3 z}{\\left(t,x,y,z \\right)} \\frac{\\partial}{\\partial z} A^{2 y}{\\left(t,x,y,z \\right)} + A^{2 y}{\\left(t,x,y,z \\right)} A^{3 z}{\\left(t,x,y,z \\right)} \\frac{\\partial}{\\partial z} A^{1 x}{\\left(t,x,y,z \\right)} - \\frac{\\partial}{\\partial x} A^{3 z}{\\left(t,x,y,z \\right)} \\frac{\\partial}{\\partial y} A^{3 z}{\\left(t,x,y,z \\right)} & A^{1 x}{\\left(t,x,y,z \\right)} A^{2 y}{\\left(t,x,y,z \\right)} \\frac{\\partial}{\\partial y} A^{3 z}{\\left(t,x,y,z \\right)} - A^{2 y}{\\left(t,x,y,z \\right)} A^{3 z}{\\left(t,x,y,z \\right)} \\frac{\\partial}{\\partial y} A^{1 x}{\\left(t,x,y,z \\right)} - \\frac{\\partial}{\\partial x} A^{2 y}{\\left(t,x,y,z \\right)} \\frac{\\partial}{\\partial z} A^{2 y}{\\left(t,x,y,z \\right)}\\\\- \\frac{\\partial}{\\partial t} A^{1 x}{\\left(t,x,y,z \\right)} \\frac{\\partial}{\\partial y} A^{1 x}{\\left(t,x,y,z \\right)} - \\frac{\\partial}{\\partial t} A^{3 z}{\\left(t,x,y,z \\right)} \\frac{\\partial}{\\partial y} A^{3 z}{\\left(t,x,y,z \\right)} & - A^{1 x}{\\left(t,x,y,z \\right)} A^{3 z}{\\left(t,x,y,z \\right)} \\frac{\\partial}{\\partial z} A^{2 y}{\\left(t,x,y,z \\right)} + A^{2 y}{\\left(t,x,y,z \\right)} A^{3 z}{\\left(t,x,y,z \\right)} \\frac{\\partial}{\\partial z} A^{1 x}{\\left(t,x,y,z \\right)} - \\frac{\\partial}{\\partial x} A^{3 z}{\\left(t,x,y,z \\right)} \\frac{\\partial}{\\partial y} A^{3 z}{\\left(t,x,y,z \\right)} & - 1.5 \\left(A^{1 x}\\right)^{2}{\\left(t,x,y,z \\right)} \\left(A^{2 y}\\right)^{2}{\\left(t,x,y,z \\right)} - 0.5 \\left(A^{1 x}\\right)^{2}{\\left(t,x,y,z \\right)} \\left(A^{3 z}\\right)^{2}{\\left(t,x,y,z \\right)} - 1.5 \\left(A^{2 y}\\right)^{2}{\\left(t,x,y,z \\right)} \\left(A^{3 z}\\right)^{2}{\\left(t,x,y,z \\right)} + 0.5 \\left(\\frac{\\partial}{\\partial t} A^{1 x}{\\left(t,x,y,z \\right)}\\right)^{2} - 1.5 \\left(\\frac{\\partial}{\\partial y} A^{1 x}{\\left(t,x,y,z \\right)}\\right)^{2} - 0.5 \\left(\\frac{\\partial}{\\partial z} A^{1 x}{\\left(t,x,y,z \\right)}\\right)^{2} + 1.5 \\left(\\frac{\\partial}{\\partial t} A^{2 y}{\\left(t,x,y,z \\right)}\\right)^{2} - 1.5 \\left(\\frac{\\partial}{\\partial x} A^{2 y}{\\left(t,x,y,z \\right)}\\right)^{2} - 1.5 \\left(\\frac{\\partial}{\\partial z} A^{2 y}{\\left(t,x,y,z \\right)}\\right)^{2} + 0.5 \\left(\\frac{\\partial}{\\partial t} A^{3 z}{\\left(t,x,y,z \\right)}\\right)^{2} - 0.5 \\left(\\frac{\\partial}{\\partial x} A^{3 z}{\\left(t,x,y,z \\right)}\\right)^{2} - 1.5 \\left(\\frac{\\partial}{\\partial y} A^{3 z}{\\left(t,x,y,z \\right)}\\right)^{2} & - A^{1 x}{\\left(t,x,y,z \\right)} A^{2 y}{\\left(t,x,y,z \\right)} \\frac{\\partial}{\\partial x} A^{3 z}{\\left(t,x,y,z \\right)} + A^{1 x}{\\left(t,x,y,z \\right)} A^{3 z}{\\left(t,x,y,z \\right)} \\frac{\\partial}{\\partial x} A^{2 y}{\\left(t,x,y,z \\right)} - \\frac{\\partial}{\\partial y} A^{1 x}{\\left(t,x,y,z \\right)} \\frac{\\partial}{\\partial z} A^{1 x}{\\left(t,x,y,z \\right)}\\\\- \\frac{\\partial}{\\partial t} A^{1 x}{\\left(t,x,y,z \\right)} \\frac{\\partial}{\\partial z} A^{1 x}{\\left(t,x,y,z \\right)} - \\frac{\\partial}{\\partial t} A^{2 y}{\\left(t,x,y,z \\right)} \\frac{\\partial}{\\partial z} A^{2 y}{\\left(t,x,y,z \\right)} & A^{1 x}{\\left(t,x,y,z \\right)} A^{2 y}{\\left(t,x,y,z \\right)} \\frac{\\partial}{\\partial y} A^{3 z}{\\left(t,x,y,z \\right)} - A^{2 y}{\\left(t,x,y,z \\right)} A^{3 z}{\\left(t,x,y,z \\right)} \\frac{\\partial}{\\partial y} A^{1 x}{\\left(t,x,y,z \\right)} - \\frac{\\partial}{\\partial x} A^{2 y}{\\left(t,x,y,z \\right)} \\frac{\\partial}{\\partial z} A^{2 y}{\\left(t,x,y,z \\right)} & - A^{1 x}{\\left(t,x,y,z \\right)} A^{2 y}{\\left(t,x,y,z \\right)} \\frac{\\partial}{\\partial x} A^{3 z}{\\left(t,x,y,z \\right)} + A^{1 x}{\\left(t,x,y,z \\right)} A^{3 z}{\\left(t,x,y,z \\right)} \\frac{\\partial}{\\partial x} A^{2 y}{\\left(t,x,y,z \\right)} - \\frac{\\partial}{\\partial y} A^{1 x}{\\left(t,x,y,z \\right)} \\frac{\\partial}{\\partial z} A^{1 x}{\\left(t,x,y,z \\right)} & - 0.5 \\left(A^{1 x}\\right)^{2}{\\left(t,x,y,z \\right)} \\left(A^{2 y}\\right)^{2}{\\left(t,x,y,z \\right)} - 1.5 \\left(A^{1 x}\\right)^{2}{\\left(t,x,y,z \\right)} \\left(A^{3 z}\\right)^{2}{\\left(t,x,y,z \\right)} - 1.5 \\left(A^{2 y}\\right)^{2}{\\left(t,x,y,z \\right)} \\left(A^{3 z}\\right)^{2}{\\left(t,x,y,z \\right)} + 0.5 \\left(\\frac{\\partial}{\\partial t} A^{1 x}{\\left(t,x,y,z \\right)}\\right)^{2} - 0.5 \\left(\\frac{\\partial}{\\partial y} A^{1 x}{\\left(t,x,y,z \\right)}\\right)^{2} - 1.5 \\left(\\frac{\\partial}{\\partial z} A^{1 x}{\\left(t,x,y,z \\right)}\\right)^{2} + 0.5 \\left(\\frac{\\partial}{\\partial t} A^{2 y}{\\left(t,x,y,z \\right)}\\right)^{2} - 0.5 \\left(\\frac{\\partial}{\\partial x} A^{2 y}{\\left(t,x,y,z \\right)}\\right)^{2} - 1.5 \\left(\\frac{\\partial}{\\partial z} A^{2 y}{\\left(t,x,y,z \\right)}\\right)^{2} + 1.5 \\left(\\frac{\\partial}{\\partial t} A^{3 z}{\\left(t,x,y,z \\right)}\\right)^{2} - 1.5 \\left(\\frac{\\partial}{\\partial x} A^{3 z}{\\left(t,x,y,z \\right)}\\right)^{2} - 1.5 \\left(\\frac{\\partial}{\\partial y} A^{3 z}{\\left(t,x,y,z \\right)}\\right)^{2}\\end{matrix}\\right]$"
      ],
      "text/plain": [
       "[[0.5*A^1^x(t, x, y, z)**2*A^2^y(t, x, y, z)**2 + 0.5*A^1^x(t, x, y, z)**2*A^3^z(t, x, y, z)**2 + 0.5*A^2^y(t, x, y, z)**2*A^3^z(t, x, y, z)**2 - 1.5*Derivative(A^1^x(t, x, y, z), t)**2 + 0.5*Derivative(A^1^x(t, x, y, z), y)**2 + 0.5*Derivative(A^1^x(t, x, y, z), z)**2 - 1.5*Derivative(A^2^y(t, x, y, z), t)**2 + 0.5*Derivative(A^2^y(t, x, y, z), x)**2 + 0.5*Derivative(A^2^y(t, x, y, z), z)**2 - 1.5*Derivative(A^3^z(t, x, y, z), t)**2 + 0.5*Derivative(A^3^z(t, x, y, z), x)**2 + 0.5*Derivative(A^3^z(t, x, y, z), y)**2, -Derivative(A^2^y(t, x, y, z), t)*Derivative(A^2^y(t, x, y, z), x) - Derivative(A^3^z(t, x, y, z), t)*Derivative(A^3^z(t, x, y, z), x), -Derivative(A^1^x(t, x, y, z), t)*Derivative(A^1^x(t, x, y, z), y) - Derivative(A^3^z(t, x, y, z), t)*Derivative(A^3^z(t, x, y, z), y), -Derivative(A^1^x(t, x, y, z), t)*Derivative(A^1^x(t, x, y, z), z) - Derivative(A^2^y(t, x, y, z), t)*Derivative(A^2^y(t, x, y, z), z)], [-Derivative(A^2^y(t, x, y, z), t)*Derivative(A^2^y(t, x, y, z), x) - Derivative(A^3^z(t, x, y, z), t)*Derivative(A^3^z(t, x, y, z), x), -1.5*A^1^x(t, x, y, z)**2*A^2^y(t, x, y, z)**2 - 1.5*A^1^x(t, x, y, z)**2*A^3^z(t, x, y, z)**2 - 0.5*A^2^y(t, x, y, z)**2*A^3^z(t, x, y, z)**2 + 1.5*Derivative(A^1^x(t, x, y, z), t)**2 - 1.5*Derivative(A^1^x(t, x, y, z), y)**2 - 1.5*Derivative(A^1^x(t, x, y, z), z)**2 + 0.5*Derivative(A^2^y(t, x, y, z), t)**2 - 1.5*Derivative(A^2^y(t, x, y, z), x)**2 - 0.5*Derivative(A^2^y(t, x, y, z), z)**2 + 0.5*Derivative(A^3^z(t, x, y, z), t)**2 - 1.5*Derivative(A^3^z(t, x, y, z), x)**2 - 0.5*Derivative(A^3^z(t, x, y, z), y)**2, -A^1^x(t, x, y, z)*A^3^z(t, x, y, z)*Derivative(A^2^y(t, x, y, z), z) + A^2^y(t, x, y, z)*A^3^z(t, x, y, z)*Derivative(A^1^x(t, x, y, z), z) - Derivative(A^3^z(t, x, y, z), x)*Derivative(A^3^z(t, x, y, z), y), A^1^x(t, x, y, z)*A^2^y(t, x, y, z)*Derivative(A^3^z(t, x, y, z), y) - A^2^y(t, x, y, z)*A^3^z(t, x, y, z)*Derivative(A^1^x(t, x, y, z), y) - Derivative(A^2^y(t, x, y, z), x)*Derivative(A^2^y(t, x, y, z), z)], [-Derivative(A^1^x(t, x, y, z), t)*Derivative(A^1^x(t, x, y, z), y) - Derivative(A^3^z(t, x, y, z), t)*Derivative(A^3^z(t, x, y, z), y), -A^1^x(t, x, y, z)*A^3^z(t, x, y, z)*Derivative(A^2^y(t, x, y, z), z) + A^2^y(t, x, y, z)*A^3^z(t, x, y, z)*Derivative(A^1^x(t, x, y, z), z) - Derivative(A^3^z(t, x, y, z), x)*Derivative(A^3^z(t, x, y, z), y), -1.5*A^1^x(t, x, y, z)**2*A^2^y(t, x, y, z)**2 - 0.5*A^1^x(t, x, y, z)**2*A^3^z(t, x, y, z)**2 - 1.5*A^2^y(t, x, y, z)**2*A^3^z(t, x, y, z)**2 + 0.5*Derivative(A^1^x(t, x, y, z), t)**2 - 1.5*Derivative(A^1^x(t, x, y, z), y)**2 - 0.5*Derivative(A^1^x(t, x, y, z), z)**2 + 1.5*Derivative(A^2^y(t, x, y, z), t)**2 - 1.5*Derivative(A^2^y(t, x, y, z), x)**2 - 1.5*Derivative(A^2^y(t, x, y, z), z)**2 + 0.5*Derivative(A^3^z(t, x, y, z), t)**2 - 0.5*Derivative(A^3^z(t, x, y, z), x)**2 - 1.5*Derivative(A^3^z(t, x, y, z), y)**2, -A^1^x(t, x, y, z)*A^2^y(t, x, y, z)*Derivative(A^3^z(t, x, y, z), x) + A^1^x(t, x, y, z)*A^3^z(t, x, y, z)*Derivative(A^2^y(t, x, y, z), x) - Derivative(A^1^x(t, x, y, z), y)*Derivative(A^1^x(t, x, y, z), z)], [-Derivative(A^1^x(t, x, y, z), t)*Derivative(A^1^x(t, x, y, z), z) - Derivative(A^2^y(t, x, y, z), t)*Derivative(A^2^y(t, x, y, z), z), A^1^x(t, x, y, z)*A^2^y(t, x, y, z)*Derivative(A^3^z(t, x, y, z), y) - A^2^y(t, x, y, z)*A^3^z(t, x, y, z)*Derivative(A^1^x(t, x, y, z), y) - Derivative(A^2^y(t, x, y, z), x)*Derivative(A^2^y(t, x, y, z), z), -A^1^x(t, x, y, z)*A^2^y(t, x, y, z)*Derivative(A^3^z(t, x, y, z), x) + A^1^x(t, x, y, z)*A^3^z(t, x, y, z)*Derivative(A^2^y(t, x, y, z), x) - Derivative(A^1^x(t, x, y, z), y)*Derivative(A^1^x(t, x, y, z), z), -0.5*A^1^x(t, x, y, z)**2*A^2^y(t, x, y, z)**2 - 1.5*A^1^x(t, x, y, z)**2*A^3^z(t, x, y, z)**2 - 1.5*A^2^y(t, x, y, z)**2*A^3^z(t, x, y, z)**2 + 0.5*Derivative(A^1^x(t, x, y, z), t)**2 - 0.5*Derivative(A^1^x(t, x, y, z), y)**2 - 1.5*Derivative(A^1^x(t, x, y, z), z)**2 + 0.5*Derivative(A^2^y(t, x, y, z), t)**2 - 0.5*Derivative(A^2^y(t, x, y, z), x)**2 - 1.5*Derivative(A^2^y(t, x, y, z), z)**2 + 1.5*Derivative(A^3^z(t, x, y, z), t)**2 - 1.5*Derivative(A^3^z(t, x, y, z), x)**2 - 1.5*Derivative(A^3^z(t, x, y, z), y)**2]]"
      ]
     },
     "execution_count": 23,
     "metadata": {},
     "output_type": "execute_result"
    }
   ],
   "source": [
    "#Energy-Momentum tensor\n",
    "\n",
    "T=sp.MutableDenseNDimArray(np.zeros((4,4),  dtype=int))\n",
    "\n",
    "for m in range(4):\n",
    "    for n in range(4):\n",
    "        T[m,n]=summation(summation(summation(met[k,l]*F[b,m,l]*F[b,n,k], (b,0,2)),(l,0,3)),(k,0,3))-met[m,n]*L\n",
    "#preview        \n",
    "T"
   ]
  },
  {
   "cell_type": "code",
   "execution_count": null,
   "id": "fe37a6e0-0b9f-4712-8be1-c30bb992b150",
   "metadata": {},
   "outputs": [],
   "source": []
  }
 ],
 "metadata": {
  "kernelspec": {
   "display_name": "Python 3 (ipykernel)",
   "language": "python",
   "name": "python3"
  },
  "language_info": {
   "codemirror_mode": {
    "name": "ipython",
    "version": 3
   },
   "file_extension": ".py",
   "mimetype": "text/x-python",
   "name": "python",
   "nbconvert_exporter": "python",
   "pygments_lexer": "ipython3",
   "version": "3.11.3"
  }
 },
 "nbformat": 4,
 "nbformat_minor": 5
}
